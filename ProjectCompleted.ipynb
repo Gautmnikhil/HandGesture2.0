{
 "cells": [
  {
   "attachments": {},
   "cell_type": "markdown",
   "metadata": {},
   "source": [
    "# American Sign Language's Alphabet Recognition\n",
    "Authors: Nikhil Gautam, Paolo Guarino"
   ]
  },
  {
   "attachments": {},
   "cell_type": "markdown",
   "metadata": {},
   "source": [
    "### 1. Adopted Libraries"
   ]
  },
  {
   "cell_type": "code",
   "execution_count": 24,
   "metadata": {},
   "outputs": [],
   "source": [
    "import pandas as pd\n",
    "import numpy as np\n",
    "import math\n",
    "import seaborn as sns\n",
    "from sklearn.preprocessing import StandardScaler\n",
    "from sklearn.metrics import accuracy_score, precision_score, recall_score, confusion_matrix\n",
    "from sklearn.metrics import confusion_matrix, ConfusionMatrixDisplay\n",
    "from sklearn.model_selection import train_test_split\n",
    "from sklearn.neighbors import KNeighborsClassifier\n",
    "from sklearn.svm import SVC\n",
    "from sklearn.decomposition import PCA\n",
    "from matplotlib import pyplot as plt\n",
    "from tensorflow.keras.models import Sequential\n",
    "from tensorflow.keras.layers import Conv2D, MaxPooling2D, Flatten, Dense\n",
    "from tensorflow.keras.utils import to_categorical"
   ]
  },
  {
   "attachments": {},
   "cell_type": "markdown",
   "metadata": {},
   "source": [
    "### 2. Dataset Upload and Features Extraction"
   ]
  },
  {
   "cell_type": "code",
   "execution_count": 25,
   "metadata": {},
   "outputs": [
    {
     "data": {
      "image/png": "[encoded data removed]",
      "text/plain": [
       "<Figure size 500x500 with 3 Axes>"
      ]
     },
     "metadata": {
      "needs_background": "light"
     },
     "output_type": "display_data"
    },
    {
     "name": "stdout",
     "output_type": "stream",
     "text": [
      "Dataset dimension: (34627, 784), where 784 = 28x28 which is the dimension of each image sample.\n",
      "Classes: [ 0  1  2  3  4  5  6  7  8 10 11 12 13 14 15 16 17 18 19 20 21 22 23 24]\n",
      "Number of classes: 24\n",
      "X_train: (27701, 784)\n",
      "X_test: (6926, 784)\n"
     ]
    }
   ],
   "source": [
    "# Load the sign language dataset\n",
    "sign = pd.read_csv(\"sign_mnist.csv\")\n",
    "#print(sign.head)\n",
    "\n",
    "# Increase figure size and DPI for better image quality\n",
    "plt.figure(figsize=(5, 5), dpi=100)\n",
    "#sign = pd.read_csv(\"sign_mnist.csv\")\n",
    "\n",
    "# Print the first three images from dataset\n",
    "for i in range(3):\n",
    "    image = sign.iloc[i, 1:].values.reshape(28, 28)  # Reshape the image to 28x28\n",
    "    label = sign.iloc[i, 0]  # Get the label for the image\n",
    "\n",
    "    plt.subplot(1, 3, i + 1)  # Create subplots for each image\n",
    "    plt.imshow(image, cmap='gray')\n",
    "    plt.title(f\"Label: {label}\")\n",
    "    plt.axis('off')  # Remove axis ticks and labels\n",
    "\n",
    "plt.tight_layout()  # Adjust the spacing between subplots\n",
    "plt.show()\n",
    "\n",
    "# Split the dataset into features (X) and labels (y)\n",
    "X = sign.drop('label', axis=1).values\n",
    "y = sign['label'].values\n",
    "print(\"Dataset dimension: \" + str(X.shape) + \", where 784 = 28x28 which is the dimension of each image sample.\")\n",
    "\n",
    "# Split the data into training (80%) and testing (20%) sets\n",
    "X_train, X_test, y_train, y_test = train_test_split(X, y, test_size=0.2, random_state=42)\n",
    "print(\"Classes: \" + str(np.unique(y)))\n",
    "num_classes = len(np.unique(y))\n",
    "print(\"Number of classes: \" + str(num_classes))\n",
    "print('X_train: ' + str(X_train.shape))\n",
    "print('X_test: '+ str(X_test.shape))\n",
    "\n",
    "# Standardize the features using StandardScaler\n",
    "# The fit_transform() method is used to compute the mean and standard deviation of the training data (X_train) and standardize it by subtracting the mean and dividing by the standard deviation.\n",
    "# The transform() method is then used to standardize the testing data (X_test) using the mean and standard deviation computed from the training data.\n",
    "scaler = StandardScaler()\n",
    "X_train = scaler.fit_transform(X_train)\n",
    "X_test = scaler.transform(X_test)\n",
    "\n",
    "# Reshape the data for CNN input (assuming the images are grayscale)\n",
    "X_train_cnn = X_train.reshape(-1, 28, 28, 1)\n",
    "X_test_cnn = X_test.reshape(-1, 28, 28, 1)\n",
    "# Convert the labels to categorical form\n",
    "y_train = y_train - 1\n",
    "y_train_cat = to_categorical(y_train, num_classes)\n",
    "y_test = y_test - 1\n",
    "y_test_cat = to_categorical(y_test, num_classes)"
   ]
  },
  {
   "cell_type": "code",
   "execution_count": 31,
   "metadata": {},
   "outputs": [
    {
     "data": {
      "text/plain": [
       "<Axes: xlabel='label', ylabel='count'>"
      ]
     },
     "execution_count": 31,
     "metadata": {},
     "output_type": "execute_result"
    },
    {
     "data": {
      "image/png": "[encoded data removed]",
      "text/plain": [
       "<Figure size 864x432 with 1 Axes>"
      ]
     },
     "metadata": {
      "needs_background": "light"
     },
     "output_type": "display_data"
    }
   ],
   "source": [
    "# Show the distribution of train data w.r.t. the classes.\n",
    "Train_data = pd.read_csv('sign_mnist_train.csv')\n",
    "plt.figure(figsize=(12,6))\n",
    "sns.countplot(x=\"label\", data=Train_data)"
   ]
  },
  {
   "cell_type": "code",
   "execution_count": 32,
   "metadata": {},
   "outputs": [
    {
     "data": {
      "text/plain": [
       "<Axes: xlabel='label', ylabel='count'>"
      ]
     },
     "execution_count": 32,
     "metadata": {},
     "output_type": "execute_result"
    },
    {
     "data": {
      "image/png": "[encoded data removed]",
      "text/plain": [
       "<Figure size 864x432 with 1 Axes>"
      ]
     },
     "metadata": {
      "needs_background": "light"
     },
     "output_type": "display_data"
    }
   ],
   "source": [
    "# Show the distribution of test data w.r.t. the classes.\n",
    "Test_data = pd.read_csv('sign_mnist_test.csv')\n",
    "plt.figure(figsize=(12,6))\n",
    "sns.countplot(x=\"label\", data=Test_data)"
   ]
  },
  {
   "attachments": {},
   "cell_type": "markdown",
   "metadata": {},
   "source": [
    "### 3. Feature Space Dimensionality Reduction"
   ]
  },
  {
   "cell_type": "code",
   "execution_count": 7,
   "metadata": {},
   "outputs": [
    {
     "name": "stdout",
     "output_type": "stream",
     "text": [
      "X_train: (27701, 40)\n",
      "X_test: (6926, 40)\n",
      "X_train_var after PCA with 40 components: 0.8671240120442532\n",
      "X_train: (27701, 3)\n",
      "X_test: (6926, 3)\n",
      "X_train_var after PCA with 3 components: 0.5126128083790911 as expected, there is a high loss of information w.r.t pca using 40 components\n"
     ]
    }
   ],
   "source": [
    "# Apply feature extraction using PCA \n",
    "pca = PCA(n_components=40)  # Number of components to keep\n",
    "X_train_pca = pca.fit_transform(X_train)\n",
    "X_test_pca = pca.transform(X_test)\n",
    "print('X_train: ' + str(X_train_pca.shape))\n",
    "print('X_test: '+ str(X_test_pca.shape))\n",
    "\n",
    "# Check the variances of the 40 selected components.\n",
    "X_train_var = np.var(X_train_pca)\n",
    "X_train_var = sum(pca.explained_variance_ratio_)\n",
    "print(\"X_train_var after PCA with 40 components: \"+str(X_train_var))\n",
    "\n",
    "# Reduce the number of components to 3.\n",
    "pca = PCA(n_components=3)  # Number of components to keep\n",
    "X_train_pca3 = pca.fit_transform(X_train)\n",
    "X_test_pca3 = pca.transform(X_test)\n",
    "print('X_train: ' + str(X_train_pca3.shape))\n",
    "print('X_test: '+ str(X_test_pca3.shape))\n",
    "\n",
    "# Check the variances of the 3 selected components.\n",
    "X_train_pca3_var = np.var(X_train_pca3)\n",
    "X_train_pca3_var = sum(pca.explained_variance_ratio_)\n",
    "#print(pca.explained_variance_ratio_)\n",
    "print(\"X_train_var after PCA with 3 components: \"+str(X_train_pca3_var) + \\\n",
    "      \" as expected, there is a high loss of information w.r.t pca using 40 components\")\n",
    "\n",
    "# Print a 2D representation of data\n",
    "#print(np.unique(y_train))\n",
    "#plot = plt.scatter(X_train_pca3[:,0], X_train_pca3[:,1], c=y_train)\n",
    "#plt.show()\n",
    "\n",
    "# Print a 3D representation of data\n",
    "#fig = plt.figure()\n",
    "#ax = fig.add_subplot(projection='3d')\n",
    "#ax.scatter(X_train_pca3[:,0], X_train_pca3[:,1], X_train_pca3[:,2], c=y_train)\n",
    "#plt.show()"
   ]
  },
  {
   "attachments": {},
   "cell_type": "markdown",
   "metadata": {},
   "source": [
    "### 4. KNN with PCA"
   ]
  },
  {
   "cell_type": "code",
   "execution_count": 8,
   "metadata": {},
   "outputs": [
    {
     "name": "stdout",
     "output_type": "stream",
     "text": [
      "\n",
      "K-Nearest Neighbors (K-NN) with PCA, K = 3, DISTANCE METRIC = euclidean, Results:\n",
      "Accuracy: 0.9914813745307537\n",
      "Precision: 0.9914001368276648\n",
      "Recall: 0.9913774790401689\n",
      "\n",
      "K-Nearest Neighbors (K-NN) with PCA, K = 5, DISTANCE METRIC = euclidean, Results:\n",
      "Accuracy: 0.9867167196072769\n",
      "Precision: 0.9866578743241313\n",
      "Recall: 0.986551257808066\n",
      "\n",
      "K-Nearest Neighbors (K-NN) with PCA, K = 7, DISTANCE METRIC = euclidean, Results:\n",
      "Accuracy: 0.9820964481663298\n",
      "Precision: 0.9821061076955931\n",
      "Recall: 0.9818913292297656\n",
      "\n",
      "K-Nearest Neighbors (K-NN) with PCA, K = 9, DISTANCE METRIC = euclidean, Results:\n",
      "Accuracy: 0.9755991914524978\n",
      "Precision: 0.9756666816078431\n",
      "Recall: 0.9752843576258967\n",
      "\n",
      "K-Nearest Neighbors (K-NN) with PCA, K = 11, DISTANCE METRIC = euclidean, Results:\n",
      "Accuracy: 0.9705457695639619\n",
      "Precision: 0.9705282614924284\n",
      "Recall: 0.9701459641296927\n",
      "\n",
      "K-Nearest Neighbors (K-NN) with PCA, K = 166, DISTANCE METRIC = euclidean, Results:\n",
      "Accuracy: 0.7419867167196073\n",
      "Precision: 0.7508268106413958\n",
      "Recall: 0.7400310567664513\n",
      "\n",
      "K-Nearest Neighbors (K-NN) with PCA, K = 3, DISTANCE METRIC = manhattan, Results:\n",
      "Accuracy: 1.0\n",
      "Precision: 1.0\n",
      "Recall: 1.0\n",
      "\n",
      "K-Nearest Neighbors (K-NN) with PCA, K = 5, DISTANCE METRIC = manhattan, Results:\n",
      "Accuracy: 1.0\n",
      "Precision: 1.0\n",
      "Recall: 1.0\n",
      "\n",
      "K-Nearest Neighbors (K-NN) with PCA, K = 7, DISTANCE METRIC = manhattan, Results:\n",
      "Accuracy: 1.0\n",
      "Precision: 1.0\n",
      "Recall: 1.0\n",
      "\n",
      "K-Nearest Neighbors (K-NN) with PCA, K = 9, DISTANCE METRIC = manhattan, Results:\n",
      "Accuracy: 1.0\n",
      "Precision: 1.0\n",
      "Recall: 1.0\n",
      "\n",
      "K-Nearest Neighbors (K-NN) with PCA, K = 11, DISTANCE METRIC = manhattan, Results:\n",
      "Accuracy: 1.0\n",
      "Precision: 1.0\n",
      "Recall: 1.0\n",
      "\n",
      "K-Nearest Neighbors (K-NN) with PCA, K = 166, DISTANCE METRIC = manhattan, Results:\n",
      "Accuracy: 0.8468091250360958\n",
      "Precision: 0.8548689034210587\n",
      "Recall: 0.8453483235605844\n",
      "\n",
      "K-Nearest Neighbors (K-NN) with PCA, K = 3, DISTANCE METRIC = cosine, Results:\n",
      "Accuracy: 0.9946578111464048\n",
      "Precision: 0.9945759940366624\n",
      "Recall: 0.9946210237217649\n",
      "\n",
      "K-Nearest Neighbors (K-NN) with PCA, K = 5, DISTANCE METRIC = cosine, Results:\n",
      "Accuracy: 0.9897487727403985\n",
      "Precision: 0.9896125407810216\n",
      "Recall: 0.9896918556129876\n",
      "\n",
      "K-Nearest Neighbors (K-NN) with PCA, K = 7, DISTANCE METRIC = cosine, Results:\n",
      "Accuracy: 0.9842622004042737\n",
      "Precision: 0.9841631159880614\n",
      "Recall: 0.9841012787457154\n",
      "\n",
      "K-Nearest Neighbors (K-NN) with PCA, K = 9, DISTANCE METRIC = cosine, Results:\n",
      "Accuracy: 0.9805082298585042\n",
      "Precision: 0.980388752498623\n",
      "Recall: 0.9803427872840141\n",
      "\n",
      "K-Nearest Neighbors (K-NN) with PCA, K = 11, DISTANCE METRIC = cosine, Results:\n",
      "Accuracy: 0.9768986427952642\n",
      "Precision: 0.9768360039650844\n",
      "Recall: 0.9766845091328262\n",
      "\n",
      "K-Nearest Neighbors (K-NN) with PCA, K = 166, DISTANCE METRIC = cosine, Results:\n",
      "Accuracy: 0.7366445278660121\n",
      "Precision: 0.7431243363362828\n",
      "Recall: 0.7338581241009531\n"
     ]
    }
   ],
   "source": [
    "# K-Nearest Neighbors (K-NN) with PCA\n",
    "# K = 1, 3, 5, 7, 9, 11, math.sqrt(X_train.shape[0])\n",
    "# DISTANCE METRIC: DM = EUCLIDEAN, MINKOWSKI, MANHATTAN, COSINE\n",
    "\n",
    "K = [3, 5, 7, 9, 11, int(math.sqrt(X_train.shape[0]))]\n",
    "DM = ['euclidean', 'manhattan', 'cosine']\n",
    "for i in DM:\n",
    "    for k in K:\n",
    "        knn_classifier = KNeighborsClassifier(n_neighbors=k, metric=i)\n",
    "        knn_classifier.fit(X_train_pca, y_train)\n",
    "        knn_pred = knn_classifier.predict(X_test_pca)\n",
    "        knn_accuracy = accuracy_score(y_test, knn_pred)\n",
    "        knn_precision = precision_score(y_test, knn_pred, average='macro')\n",
    "        knn_recall = recall_score(y_test, knn_pred, average='macro')\n",
    "        knn_cm = confusion_matrix(y_test, knn_pred)\n",
    "\n",
    "        print(\"\\nK-Nearest Neighbors (K-NN) with PCA, K = \" + str(k) + \", DISTANCE METRIC = \" + i + \", Results:\")\n",
    "        print(\"Accuracy:\", knn_accuracy)\n",
    "        print(\"Precision:\", knn_precision)\n",
    "        print(\"Recall:\", knn_recall)\n",
    "\n",
    "#print(\"Confusion Matrix:\")\n",
    "#disp = ConfusionMatrixDisplay(confusion_matrix=knn_cm)\n",
    "#disp.plot()\n",
    "#plt.show()"
   ]
  },
  {
   "attachments": {},
   "cell_type": "markdown",
   "metadata": {},
   "source": [
    "### 5. KNN without PCA"
   ]
  },
  {
   "cell_type": "code",
   "execution_count": 9,
   "metadata": {},
   "outputs": [
    {
     "name": "stdout",
     "output_type": "stream",
     "text": [
      "\n",
      "K-Nearest Neighbors (K-NN), K = 3, DISTANCE METRIC = euclidean, Results:\n",
      "Accuracy: 0.9972567138319376\n",
      "Precision: 0.9972270035243103\n",
      "Recall: 0.9972464179937922\n",
      "\n",
      "K-Nearest Neighbors (K-NN), K = 5, DISTANCE METRIC = euclidean, Results:\n",
      "Accuracy: 0.9955241120415824\n",
      "Precision: 0.9955082657022358\n",
      "Recall: 0.9954265098141762\n",
      "\n",
      "K-Nearest Neighbors (K-NN), K = 7, DISTANCE METRIC = euclidean, Results:\n",
      "Accuracy: 0.9926364423909905\n",
      "Precision: 0.9925151696217759\n",
      "Recall: 0.9925568904030673\n",
      "\n",
      "K-Nearest Neighbors (K-NN), K = 9, DISTANCE METRIC = euclidean, Results:\n",
      "Accuracy: 0.9898931562229281\n",
      "Precision: 0.9898470714972746\n",
      "Recall: 0.9897430386402597\n",
      "\n",
      "K-Nearest Neighbors (K-NN), K = 11, DISTANCE METRIC = euclidean, Results:\n",
      "Accuracy: 0.9875830205024545\n",
      "Precision: 0.9875265704981798\n",
      "Recall: 0.9874439564989962\n",
      "\n",
      "K-Nearest Neighbors (K-NN), K = 166, DISTANCE METRIC = euclidean, Results:\n",
      "Accuracy: 0.7529598613918568\n",
      "Precision: 0.7757857974702856\n",
      "Recall: 0.7509287981606351\n",
      "\n",
      "K-Nearest Neighbors (K-NN), K = 3, DISTANCE METRIC = manhattan, Results:\n",
      "Accuracy: 0.9893156222928097\n",
      "Precision: 0.9894332679871773\n",
      "Recall: 0.9890803217112679\n",
      "\n",
      "K-Nearest Neighbors (K-NN), K = 5, DISTANCE METRIC = manhattan, Results:\n",
      "Accuracy: 0.9862835691596882\n",
      "Precision: 0.9863934119938657\n",
      "Recall: 0.9860649457885918\n",
      "\n",
      "K-Nearest Neighbors (K-NN), K = 7, DISTANCE METRIC = manhattan, Results:\n",
      "Accuracy: 0.9790643950332082\n",
      "Precision: 0.9792699624825015\n",
      "Recall: 0.9787880715494225\n",
      "\n",
      "K-Nearest Neighbors (K-NN), K = 9, DISTANCE METRIC = manhattan, Results:\n",
      "Accuracy: 0.9745885070747906\n",
      "Precision: 0.9749877767019705\n",
      "Recall: 0.9741848545235956\n",
      "\n",
      "K-Nearest Neighbors (K-NN), K = 11, DISTANCE METRIC = manhattan, Results:\n",
      "Accuracy: 0.9667917990181923\n",
      "Precision: 0.9671786816744902\n",
      "Recall: 0.9663333781421676\n",
      "\n",
      "K-Nearest Neighbors (K-NN), K = 166, DISTANCE METRIC = manhattan, Results:\n",
      "Accuracy: 0.6972278371354317\n",
      "Precision: 0.7284012237689113\n",
      "Recall: 0.6950711338825747\n",
      "\n",
      "K-Nearest Neighbors (K-NN), K = 3, DISTANCE METRIC = cosine, Results:\n",
      "Accuracy: 0.997834247762056\n",
      "Precision: 0.9978027049876884\n",
      "Recall: 0.9978482651259212\n",
      "\n",
      "K-Nearest Neighbors (K-NN), K = 5, DISTANCE METRIC = cosine, Results:\n",
      "Accuracy: 0.99639041293676\n",
      "Precision: 0.9963427794146278\n",
      "Recall: 0.9963659904859737\n",
      "\n",
      "K-Nearest Neighbors (K-NN), K = 7, DISTANCE METRIC = cosine, Results:\n",
      "Accuracy: 0.993502743286168\n",
      "Precision: 0.993399572283829\n",
      "Recall: 0.9934961334638549\n",
      "\n",
      "K-Nearest Neighbors (K-NN), K = 9, DISTANCE METRIC = cosine, Results:\n",
      "Accuracy: 0.9900375397054577\n",
      "Precision: 0.9898996914140487\n",
      "Recall: 0.9900018087996877\n",
      "\n",
      "K-Nearest Neighbors (K-NN), K = 11, DISTANCE METRIC = cosine, Results:\n",
      "Accuracy: 0.9877274039849842\n",
      "Precision: 0.987592010496057\n",
      "Recall: 0.9877456027073735\n",
      "\n",
      "K-Nearest Neighbors (K-NN), K = 166, DISTANCE METRIC = cosine, Results:\n",
      "Accuracy: 0.745307536817788\n",
      "Precision: 0.7587640015623424\n",
      "Recall: 0.7428149964351679\n"
     ]
    }
   ],
   "source": [
    "# K-Nearest Neighbors (K-NN) NO PCA\n",
    "# K = 1, 3, 5, 7, 9, 11, math.sqrt(X_train.shape[0])\n",
    "# DISTANCE METRIC: DM = EUCLIDEAN, MINKOWSKI, MANHATTAN, COSINE\n",
    "\n",
    "K = [3, 5, 7, 9, 11, int(math.sqrt(X_train.shape[0]))]\n",
    "DM = ['euclidean', 'manhattan', 'cosine']\n",
    "for i in DM:\n",
    "    for k in K:\n",
    "        knn_classifier = KNeighborsClassifier(n_neighbors=k, metric=i)\n",
    "        knn_classifier.fit(X_train, y_train)\n",
    "        knn_pred = knn_classifier.predict(X_test)\n",
    "        knn_accuracy = accuracy_score(y_test, knn_pred)\n",
    "        knn_precision = precision_score(y_test, knn_pred, average='macro')\n",
    "        knn_recall = recall_score(y_test, knn_pred, average='macro')\n",
    "        knn_cm = confusion_matrix(y_test, knn_pred)\n",
    "\n",
    "        print(\"\\nK-Nearest Neighbors (K-NN), K = \" + str(k) + \", DISTANCE METRIC = \" + i + \", Results:\")\n",
    "        print(\"Accuracy:\", knn_accuracy)\n",
    "        print(\"Precision:\", knn_precision)\n",
    "        print(\"Recall:\", knn_recall)\n",
    "\n",
    "#print(\"Confusion Matrix:\")\n",
    "#disp = ConfusionMatrixDisplay(confusion_matrix=knn_cm)\n",
    "#disp.plot()\n",
    "#plt.show()"
   ]
  },
  {
   "attachments": {},
   "cell_type": "markdown",
   "metadata": {},
   "source": [
    "### 6. SVM with PCA"
   ]
  },
  {
   "cell_type": "code",
   "execution_count": 10,
   "metadata": {},
   "outputs": [
    {
     "name": "stdout",
     "output_type": "stream",
     "text": [
      "\n",
      "Support Vector Machines (SVM) with PCA, KERNEL FUNCTION: linear, Results:\n",
      "Accuracy: 0.9997112330349408\n",
      "Precision: 0.9997060543472851\n",
      "Recall: 0.9997140205473539\n",
      "\n",
      "Support Vector Machines (SVM) with PCA, KERNEL FUNCTION: poly, Results:\n",
      "Accuracy: 0.9563961882760612\n",
      "Precision: 0.962285180553517\n",
      "Recall: 0.9561303066244163\n",
      "\n",
      "Support Vector Machines (SVM) with PCA, KERNEL FUNCTION: rbf, Results:\n",
      "Accuracy: 0.9950909615939937\n",
      "Precision: 0.9952180131165386\n",
      "Recall: 0.9950655872828064\n",
      "\n",
      "Support Vector Machines (SVM) with PCA, KERNEL FUNCTION: sigmoid, Results:\n",
      "Accuracy: 0.3559052844354606\n",
      "Precision: 0.4245883874210001\n",
      "Recall: 0.35381259611668137\n"
     ]
    }
   ],
   "source": [
    "# Support Vector Machines (SVM) with PCA: One-vs-Rest approach\n",
    "# KERNEL FUNCION: KF = linear, polynomial, rbf, sigmoid\n",
    "KF = ['linear', 'poly', 'rbf', 'sigmoid']\n",
    "for i in KF:\n",
    "    svm_classifier = SVC(kernel=i, decision_function_shape='ovr')\n",
    "    svm_classifier.fit(X_train_pca, y_train)\n",
    "    svm_pred = svm_classifier.predict(X_test_pca)\n",
    "    svm_accuracy = accuracy_score(y_test, svm_pred)\n",
    "    svm_precision = precision_score(y_test, svm_pred, average='macro')\n",
    "    svm_recall = recall_score(y_test, svm_pred, average='macro')\n",
    "    svm_cm = confusion_matrix(y_test, svm_pred)\n",
    "\n",
    "    print(\"\\nSupport Vector Machines (SVM) with PCA, KERNEL FUNCTION: \" + i + \", Results:\")\n",
    "    print(\"Accuracy:\", svm_accuracy)\n",
    "    print(\"Precision:\", svm_precision)\n",
    "    print(\"Recall:\", svm_recall)\n",
    "\n",
    "#print(\"Confusion Matrix:\")\n",
    "#disp = ConfusionMatrixDisplay(confusion_matrix=svm_cm)\n",
    "#disp.plot()\n",
    "#plt.show()"
   ]
  },
  {
   "attachments": {},
   "cell_type": "markdown",
   "metadata": {},
   "source": [
    "### 7. SVM without PCA"
   ]
  },
  {
   "cell_type": "code",
   "execution_count": 11,
   "metadata": {},
   "outputs": [
    {
     "name": "stdout",
     "output_type": "stream",
     "text": [
      "\n",
      "Support Vector Machines (SVM), KERNEL FUNCTION: linear, Results:\n",
      "Accuracy: 1.0\n",
      "Precision: 1.0\n",
      "Recall: 1.0\n",
      "\n",
      "Support Vector Machines (SVM), KERNEL FUNCTION: poly, Results:\n",
      "Accuracy: 0.9826739820964482\n",
      "Precision: 0.9845939428768533\n",
      "Recall: 0.9826492233107317\n",
      "\n",
      "Support Vector Machines (SVM), KERNEL FUNCTION: rbf, Results:\n",
      "Accuracy: 0.9998556165174703\n",
      "Precision: 0.9998511904761905\n",
      "Recall: 0.9998468137254902\n",
      "\n",
      "Support Vector Machines (SVM), KERNEL FUNCTION: sigmoid, Results:\n",
      "Accuracy: 0.4298296274906151\n",
      "Precision: 0.5091360534591578\n",
      "Recall: 0.4269283386638903\n"
     ]
    }
   ],
   "source": [
    "# Support Vector Machines (SVM) NO PCA: One-vs-Rest approach\n",
    "# KERNEL FUNCION: KF = linear, polynomial, rbf, sigmoid\n",
    "KF = ['linear', 'poly', 'rbf', 'sigmoid']\n",
    "for i in KF:\n",
    "    svm_classifier = SVC(kernel=i, decision_function_shape='ovr')\n",
    "    svm_classifier.fit(X_train, y_train)\n",
    "    svm_pred = svm_classifier.predict(X_test)\n",
    "    svm_accuracy = accuracy_score(y_test, svm_pred)\n",
    "    svm_precision = precision_score(y_test, svm_pred, average='macro')\n",
    "    svm_recall = recall_score(y_test, svm_pred, average='macro')\n",
    "    svm_cm = confusion_matrix(y_test, svm_pred)\n",
    "\n",
    "    print(\"\\nSupport Vector Machines (SVM), KERNEL FUNCTION: \" + i + \", Results:\")\n",
    "    print(\"Accuracy:\", svm_accuracy)\n",
    "    print(\"Precision:\", svm_precision)\n",
    "    print(\"Recall:\", svm_recall)\n",
    "\n",
    "#print(\"Confusion Matrix:\")\n",
    "#disp = ConfusionMatrixDisplay(confusion_matrix=svm_cm)\n",
    "#disp.plot()\n",
    "#plt.show()"
   ]
  },
  {
   "attachments": {},
   "cell_type": "markdown",
   "metadata": {},
   "source": [
    "### 8. CNN: ReLU as Activation Function"
   ]
  },
  {
   "cell_type": "code",
   "execution_count": 16,
   "metadata": {},
   "outputs": [
    {
     "name": "stdout",
     "output_type": "stream",
     "text": [
      "Epoch 1/10\n",
      "174/174 [==============================] - 8s 39ms/step - loss: 0.8313 - accuracy: 0.7578 - val_loss: 0.1767 - val_accuracy: 0.9531\n",
      "Epoch 2/10\n",
      "174/174 [==============================] - 7s 39ms/step - loss: 0.0552 - accuracy: 0.9902 - val_loss: 0.0260 - val_accuracy: 0.9969\n",
      "Epoch 3/10\n",
      "174/174 [==============================] - 7s 38ms/step - loss: 0.0081 - accuracy: 0.9999 - val_loss: 0.0060 - val_accuracy: 1.0000\n",
      "Epoch 4/10\n",
      "174/174 [==============================] - 7s 39ms/step - loss: 0.0033 - accuracy: 1.0000 - val_loss: 0.0030 - val_accuracy: 0.9998\n",
      "Epoch 5/10\n",
      "174/174 [==============================] - 7s 38ms/step - loss: 0.0018 - accuracy: 1.0000 - val_loss: 0.0024 - val_accuracy: 0.9998\n",
      "Epoch 6/10\n",
      "174/174 [==============================] - 7s 42ms/step - loss: 0.0012 - accuracy: 1.0000 - val_loss: 0.0016 - val_accuracy: 1.0000\n",
      "Epoch 7/10\n",
      "174/174 [==============================] - 6s 34ms/step - loss: 7.5688e-04 - accuracy: 1.0000 - val_loss: 9.7999e-04 - val_accuracy: 1.0000\n",
      "Epoch 8/10\n",
      "174/174 [==============================] - 6s 34ms/step - loss: 5.6529e-04 - accuracy: 1.0000 - val_loss: 8.7596e-04 - val_accuracy: 1.0000\n",
      "Epoch 9/10\n",
      "174/174 [==============================] - 6s 34ms/step - loss: 4.0849e-04 - accuracy: 1.0000 - val_loss: 7.0327e-04 - val_accuracy: 1.0000\n",
      "Epoch 10/10\n",
      "174/174 [==============================] - 7s 39ms/step - loss: 3.2532e-04 - accuracy: 1.0000 - val_loss: 6.0662e-04 - val_accuracy: 1.0000\n",
      "217/217 [==============================] - 1s 4ms/step\n",
      "\n",
      "Convolutional Neural Network (CNN) Results:\n",
      "Accuracy: 0.9517759168351141\n",
      "Precision: 0.9354012725779968\n",
      "Recall: 0.9581801470588235\n",
      "Confusion Matrix:\n",
      "[[  0   0   0   0   0   0   0   0   0   0   0   0   0   0   0   0   0   0\n",
      "    0   0   0   0   0 333]\n",
      " [  0 310   0   0   0   0   0   0   0   0   0   0   0   0   0   0   0   0\n",
      "    0   0   0   0   0   0]\n",
      " [  0   0 259   0   0   0   0   0   0   0   0   0   0   0   0   0   0   0\n",
      "    0   0   0   0   0   0]\n",
      " [  0   0   0 310   0   0   0   0   0   0   0   0   0   0   0   0   0   0\n",
      "    0   0   0   0   0   0]\n",
      " [  0   0   0   0 282   0   0   0   0   0   0   0   0   0   0   0   0   0\n",
      "    0   0   0   0   0   0]\n",
      " [  0   0   0   0   0 262   0   0   0   0   0   0   0   0   0   0   0   0\n",
      "    0   0   0   0   0   0]\n",
      " [  0   0   0   0   0   0 265   0   0   0   0   0   0   0   0   0   0   0\n",
      "    0   0   0   0   0   0]\n",
      " [  0   0   0   0   0   0   0 302   0   0   0   0   0   0   0   0   0   0\n",
      "    0   0   0   0   0   0]\n",
      " [  0   0   0   0   0   0   0   0 304   0   0   0   0   0   0   0   0   0\n",
      "    0   0   0   0   0   0]\n",
      " [  0   0   0   0   0   0   0   0   0 283   0   0   0   0   0   0   0   0\n",
      "    0   0   0   0   0   0]\n",
      " [  0   0   0   0   0   0   0   0   0   0 309   0   0   0   0   0   0   0\n",
      "    0   0   0   0   0   0]\n",
      " [  0   0   0   0   0   0   0   0   0   0   0 286   0   0   0   0   0   0\n",
      "    0   0   0   0   0   0]\n",
      " [  0   0   0   0   0   0   0   0   0   0   0   0 279   0   0   0   0   0\n",
      "    0   0   0   0   0   0]\n",
      " [  0   0   0   0   0   0   0   0   0   0   0   0   0 288   0   0   0   0\n",
      "    0   0   0   0   0   0]\n",
      " [  0   0   0   0   0   0   0   0   0   0   0   0   0   0 290   0   0   0\n",
      "    0   0   0   0   0   0]\n",
      " [  0   0   0   0   0   0   0   0   0   0   0   0   0   0   0 314   0   0\n",
      "    0   0   0   0   0   0]\n",
      " [  0   0   0   0   0   0   0   0   0   0   0   0   0   0   0   0 297   0\n",
      "    0   0   0   0   0   0]\n",
      " [  0   0   0   0   0   0   0   0   0   0   0   0   0   0   0   0   0 268\n",
      "    0   0   0   0   0   0]\n",
      " [  0   0   0   0   0   0   0   0   0   0   0   0   0   0   0   0   0   0\n",
      "  303   0   0   0   0   0]\n",
      " [  0   0   0   0   0   0   0   0   0   0   0   0   0   0   0   0   0   0\n",
      "    0 274   0   0   0   0]\n",
      " [  0   0   0   0   0   0   0   0   0   0   0   0   0   0   0   0   0   0\n",
      "    0   0 281   0   0   0]\n",
      " [  0   0   0   0   0   0   0   0   0   0   0   0   0   0   0   0   0   0\n",
      "    0   0   0 279   0   0]\n",
      " [  0   0   0   0   0   0   0   0   0   0   0   0   0   0   0   0   0   0\n",
      "    0   0   0   1 271   0]\n",
      " [  0   0   0   0   0   0   0   0   0   0   0   0   0   0   0   0   0   0\n",
      "    0   0   0   0   0 276]]\n"
     ]
    },
    {
     "name": "stderr",
     "output_type": "stream",
     "text": [
      "/Library/Frameworks/Python.framework/Versions/3.10/lib/python3.10/site-packages/sklearn/metrics/_classification.py:1344: UndefinedMetricWarning: Precision is ill-defined and being set to 0.0 in labels with no predicted samples. Use `zero_division` parameter to control this behavior.\n",
      "  _warn_prf(average, modifier, msg_start, len(result))\n"
     ]
    },
    {
     "data": {
      "image/png": "[encoded data removed]",
      "text/plain": [
       "<Figure size 432x288 with 2 Axes>"
      ]
     },
     "metadata": {
      "needs_background": "light"
     },
     "output_type": "display_data"
    },
    {
     "data": {
      "text/plain": [
       "<Figure size 3600x3600 with 0 Axes>"
      ]
     },
     "metadata": {},
     "output_type": "display_data"
    }
   ],
   "source": [
    "# Convolutional Neural Networks (CNN) model\n",
    "model = Sequential()\n",
    "model.add(Conv2D(32, kernel_size=(3, 3), activation='relu', input_shape=(28, 28, 1)))\n",
    "model.add(MaxPooling2D(pool_size=(2, 2)))\n",
    "model.add(Conv2D(64, kernel_size=(3, 3), activation='relu'))\n",
    "model.add(MaxPooling2D(pool_size=(2, 2)))\n",
    "model.add(Flatten())\n",
    "model.add(Dense(128, activation='relu'))\n",
    "model.add(Dense(num_classes, activation='softmax'))\n",
    "\n",
    "model.compile(loss='categorical_crossentropy', optimizer='adam', metrics=['accuracy'])\n",
    "\n",
    "# Performs forward pass and backward pass.\n",
    "model.fit(np.array(X_train_cnn), np.array(y_train_cat), batch_size=128, epochs=10, validation_split=0.2)\n",
    "\n",
    "cnn_pred = model.predict(X_test_cnn)\n",
    "cnn_pred_classes = np.argmax(cnn_pred, axis=1)\n",
    "cnn_accuracy = accuracy_score(y_test, cnn_pred_classes)\n",
    "cnn_precision = precision_score(y_test, cnn_pred_classes, average='macro')\n",
    "cnn_recall = recall_score(y_test, cnn_pred_classes, average='macro')\n",
    "cnn_cm = confusion_matrix(y_test, cnn_pred_classes)\n",
    "\n",
    "print(\"\\nConvolutional Neural Network (CNN) Results:\")\n",
    "print(\"Accuracy:\", cnn_accuracy)\n",
    "print(\"Precision:\", cnn_precision)\n",
    "print(\"Recall:\", cnn_recall)\n",
    "print(\"Confusion Matrix:\")\n",
    "print(cnn_cm)\n",
    "disp = ConfusionMatrixDisplay(confusion_matrix=cnn_cm)\n",
    "disp.plot()\n",
    "plt.figure(figsize=(50,50))\n",
    "plt.show()"
   ]
  },
  {
   "attachments": {},
   "cell_type": "markdown",
   "metadata": {},
   "source": [
    "### 9. CNN: ELU as Activation Function"
   ]
  },
  {
   "cell_type": "code",
   "execution_count": 17,
   "metadata": {},
   "outputs": [
    {
     "name": "stdout",
     "output_type": "stream",
     "text": [
      "Epoch 1/10\n",
      "174/174 [==============================] - 7s 36ms/step - loss: 0.5725 - accuracy: 0.8330 - val_loss: 0.0537 - val_accuracy: 0.9919\n",
      "Epoch 2/10\n",
      "174/174 [==============================] - 6s 35ms/step - loss: 0.0143 - accuracy: 0.9990 - val_loss: 0.0047 - val_accuracy: 1.0000\n",
      "Epoch 3/10\n",
      "174/174 [==============================] - 6s 35ms/step - loss: 0.0025 - accuracy: 1.0000 - val_loss: 0.0020 - val_accuracy: 1.0000\n",
      "Epoch 4/10\n",
      "174/174 [==============================] - 6s 35ms/step - loss: 0.0012 - accuracy: 1.0000 - val_loss: 0.0012 - val_accuracy: 1.0000\n",
      "Epoch 5/10\n",
      "174/174 [==============================] - 6s 35ms/step - loss: 6.6802e-04 - accuracy: 1.0000 - val_loss: 9.0828e-04 - val_accuracy: 1.0000\n",
      "Epoch 6/10\n",
      "174/174 [==============================] - 6s 35ms/step - loss: 4.5583e-04 - accuracy: 1.0000 - val_loss: 6.0011e-04 - val_accuracy: 1.0000\n",
      "Epoch 7/10\n",
      "174/174 [==============================] - 6s 35ms/step - loss: 3.0945e-04 - accuracy: 1.0000 - val_loss: 5.2605e-04 - val_accuracy: 1.0000\n",
      "Epoch 8/10\n",
      "174/174 [==============================] - 6s 35ms/step - loss: 2.2934e-04 - accuracy: 1.0000 - val_loss: 4.2328e-04 - val_accuracy: 1.0000\n",
      "Epoch 9/10\n",
      "174/174 [==============================] - 6s 35ms/step - loss: 1.7765e-04 - accuracy: 1.0000 - val_loss: 3.4429e-04 - val_accuracy: 1.0000\n",
      "Epoch 10/10\n",
      "174/174 [==============================] - 6s 35ms/step - loss: 1.3901e-04 - accuracy: 1.0000 - val_loss: 2.5056e-04 - val_accuracy: 1.0000\n",
      "217/217 [==============================] - 1s 2ms/step\n",
      "\n",
      "Convolutional Neural Network (CNN) Results:\n",
      "Accuracy: 0.9519203003176436\n",
      "Precision: 0.9355500821018062\n",
      "Recall: 0.9583333333333334\n",
      "Confusion Matrix:\n",
      "[[  0   0   0   0   0   0   0   0   0   0   0   0   0   0   0   0   0   0\n",
      "    0   0   0   0   0 333]\n",
      " [  0 310   0   0   0   0   0   0   0   0   0   0   0   0   0   0   0   0\n",
      "    0   0   0   0   0   0]\n",
      " [  0   0 259   0   0   0   0   0   0   0   0   0   0   0   0   0   0   0\n",
      "    0   0   0   0   0   0]\n",
      " [  0   0   0 310   0   0   0   0   0   0   0   0   0   0   0   0   0   0\n",
      "    0   0   0   0   0   0]\n",
      " [  0   0   0   0 282   0   0   0   0   0   0   0   0   0   0   0   0   0\n",
      "    0   0   0   0   0   0]\n",
      " [  0   0   0   0   0 262   0   0   0   0   0   0   0   0   0   0   0   0\n",
      "    0   0   0   0   0   0]\n",
      " [  0   0   0   0   0   0 265   0   0   0   0   0   0   0   0   0   0   0\n",
      "    0   0   0   0   0   0]\n",
      " [  0   0   0   0   0   0   0 302   0   0   0   0   0   0   0   0   0   0\n",
      "    0   0   0   0   0   0]\n",
      " [  0   0   0   0   0   0   0   0 304   0   0   0   0   0   0   0   0   0\n",
      "    0   0   0   0   0   0]\n",
      " [  0   0   0   0   0   0   0   0   0 283   0   0   0   0   0   0   0   0\n",
      "    0   0   0   0   0   0]\n",
      " [  0   0   0   0   0   0   0   0   0   0 309   0   0   0   0   0   0   0\n",
      "    0   0   0   0   0   0]\n",
      " [  0   0   0   0   0   0   0   0   0   0   0 286   0   0   0   0   0   0\n",
      "    0   0   0   0   0   0]\n",
      " [  0   0   0   0   0   0   0   0   0   0   0   0 279   0   0   0   0   0\n",
      "    0   0   0   0   0   0]\n",
      " [  0   0   0   0   0   0   0   0   0   0   0   0   0 288   0   0   0   0\n",
      "    0   0   0   0   0   0]\n",
      " [  0   0   0   0   0   0   0   0   0   0   0   0   0   0 290   0   0   0\n",
      "    0   0   0   0   0   0]\n",
      " [  0   0   0   0   0   0   0   0   0   0   0   0   0   0   0 314   0   0\n",
      "    0   0   0   0   0   0]\n",
      " [  0   0   0   0   0   0   0   0   0   0   0   0   0   0   0   0 297   0\n",
      "    0   0   0   0   0   0]\n",
      " [  0   0   0   0   0   0   0   0   0   0   0   0   0   0   0   0   0 268\n",
      "    0   0   0   0   0   0]\n",
      " [  0   0   0   0   0   0   0   0   0   0   0   0   0   0   0   0   0   0\n",
      "  303   0   0   0   0   0]\n",
      " [  0   0   0   0   0   0   0   0   0   0   0   0   0   0   0   0   0   0\n",
      "    0 274   0   0   0   0]\n",
      " [  0   0   0   0   0   0   0   0   0   0   0   0   0   0   0   0   0   0\n",
      "    0   0 281   0   0   0]\n",
      " [  0   0   0   0   0   0   0   0   0   0   0   0   0   0   0   0   0   0\n",
      "    0   0   0 279   0   0]\n",
      " [  0   0   0   0   0   0   0   0   0   0   0   0   0   0   0   0   0   0\n",
      "    0   0   0   0 272   0]\n",
      " [  0   0   0   0   0   0   0   0   0   0   0   0   0   0   0   0   0   0\n",
      "    0   0   0   0   0 276]]\n"
     ]
    },
    {
     "name": "stderr",
     "output_type": "stream",
     "text": [
      "/Library/Frameworks/Python.framework/Versions/3.10/lib/python3.10/site-packages/sklearn/metrics/_classification.py:1344: UndefinedMetricWarning: Precision is ill-defined and being set to 0.0 in labels with no predicted samples. Use `zero_division` parameter to control this behavior.\n",
      "  _warn_prf(average, modifier, msg_start, len(result))\n"
     ]
    },
    {
     "data": {
      "image/png": "[encoded data removed]",
      "text/plain": [
       "<Figure size 432x288 with 2 Axes>"
      ]
     },
     "metadata": {
      "needs_background": "light"
     },
     "output_type": "display_data"
    },
    {
     "data": {
      "text/plain": [
       "<Figure size 3600x3600 with 0 Axes>"
      ]
     },
     "metadata": {},
     "output_type": "display_data"
    }
   ],
   "source": [
    "# Convolutional Neural Networks (CNN) model\n",
    "model = Sequential()\n",
    "model.add(Conv2D(32, kernel_size=(3, 3), activation='elu', input_shape=(28, 28, 1)))\n",
    "model.add(MaxPooling2D(pool_size=(2, 2)))\n",
    "model.add(Conv2D(64, kernel_size=(3, 3), activation='elu'))\n",
    "model.add(MaxPooling2D(pool_size=(2, 2)))\n",
    "model.add(Flatten())\n",
    "model.add(Dense(128, activation='elu'))\n",
    "model.add(Dense(num_classes, activation='softmax'))\n",
    "\n",
    "model.compile(loss='categorical_crossentropy', optimizer='adam', metrics=['accuracy'])\n",
    "\n",
    "# Performs forward pass and backward pass.\n",
    "model.fit(np.array(X_train_cnn), np.array(y_train_cat), batch_size=128, epochs=10, validation_split=0.2)\n",
    "\n",
    "cnn_pred = model.predict(X_test_cnn)\n",
    "cnn_pred_classes = np.argmax(cnn_pred, axis=1)\n",
    "cnn_accuracy = accuracy_score(y_test, cnn_pred_classes)\n",
    "cnn_precision = precision_score(y_test, cnn_pred_classes, average='macro')\n",
    "cnn_recall = recall_score(y_test, cnn_pred_classes, average='macro')\n",
    "cnn_cm = confusion_matrix(y_test, cnn_pred_classes)\n",
    "\n",
    "print(\"\\nConvolutional Neural Network (CNN) Results:\")\n",
    "print(\"Accuracy:\", cnn_accuracy)\n",
    "print(\"Precision:\", cnn_precision)\n",
    "print(\"Recall:\", cnn_recall)\n",
    "print(\"Confusion Matrix:\")\n",
    "print(cnn_cm)\n",
    "disp = ConfusionMatrixDisplay(confusion_matrix=cnn_cm)\n",
    "disp.plot()\n",
    "plt.figure(figsize=(50,50))\n",
    "plt.show()"
   ]
  },
  {
   "attachments": {},
   "cell_type": "markdown",
   "metadata": {},
   "source": [
    "### 10. CNN: SIGMOID as Activation Function"
   ]
  },
  {
   "cell_type": "code",
   "execution_count": 14,
   "metadata": {},
   "outputs": [
    {
     "name": "stdout",
     "output_type": "stream",
     "text": [
      "Epoch 1/10\n",
      "174/174 [==============================] - 6s 34ms/step - loss: 2.7294 - accuracy: 0.1998 - val_loss: 1.8866 - val_accuracy: 0.4613\n",
      "Epoch 2/10\n",
      "174/174 [==============================] - 6s 36ms/step - loss: 1.4177 - accuracy: 0.6108 - val_loss: 1.0711 - val_accuracy: 0.7069\n",
      "Epoch 3/10\n",
      "174/174 [==============================] - 6s 33ms/step - loss: 0.8396 - accuracy: 0.7901 - val_loss: 0.6585 - val_accuracy: 0.8515\n",
      "Epoch 4/10\n",
      "174/174 [==============================] - 6s 35ms/step - loss: 0.5201 - accuracy: 0.8924 - val_loss: 0.4190 - val_accuracy: 0.9237\n",
      "Epoch 5/10\n",
      "174/174 [==============================] - 6s 35ms/step - loss: 0.3234 - accuracy: 0.9510 - val_loss: 0.2633 - val_accuracy: 0.9670\n",
      "Epoch 6/10\n",
      "174/174 [==============================] - 6s 35ms/step - loss: 0.2069 - accuracy: 0.9785 - val_loss: 0.1757 - val_accuracy: 0.9811\n",
      "Epoch 7/10\n",
      "174/174 [==============================] - 6s 35ms/step - loss: 0.1334 - accuracy: 0.9913 - val_loss: 0.1179 - val_accuracy: 0.9933\n",
      "Epoch 8/10\n",
      "174/174 [==============================] - 6s 35ms/step - loss: 0.0899 - accuracy: 0.9966 - val_loss: 0.0850 - val_accuracy: 0.9957\n",
      "Epoch 9/10\n",
      "174/174 [==============================] - 6s 36ms/step - loss: 0.0628 - accuracy: 0.9984 - val_loss: 0.0577 - val_accuracy: 0.9984\n",
      "Epoch 10/10\n",
      "174/174 [==============================] - 6s 36ms/step - loss: 0.0457 - accuracy: 0.9995 - val_loss: 0.0426 - val_accuracy: 0.9991\n",
      "217/217 [==============================] - 1s 2ms/step\n",
      "\n",
      "Convolutional Neural Network (CNN) Results:\n",
      "Accuracy: 0.9507652324574069\n",
      "Precision: 0.9348279717512166\n",
      "Recall: 0.9571879367376597\n",
      "Confusion Matrix:\n",
      "[[  0   0   0   0   0   0   0   0   0   0   0   0   0   0   0   0   0   0\n",
      "    0   0   0   0   0 333]\n",
      " [  0 310   0   0   0   0   0   0   0   0   0   0   0   0   0   0   0   0\n",
      "    0   0   0   0   0   0]\n",
      " [  0   0 259   0   0   0   0   0   0   0   0   0   0   0   0   0   0   0\n",
      "    0   0   0   0   0   0]\n",
      " [  0   0   0 310   0   0   0   0   0   0   0   0   0   0   0   0   0   0\n",
      "    0   0   0   0   0   0]\n",
      " [  0   0   0   0 282   0   0   0   0   0   0   0   0   0   0   0   0   0\n",
      "    0   0   0   0   0   0]\n",
      " [  0   0   0   0   0 262   0   0   0   0   0   0   0   0   0   0   0   0\n",
      "    0   0   0   0   0   0]\n",
      " [  0   0   0   0   0   0 265   0   0   0   0   0   0   0   0   0   0   0\n",
      "    0   0   0   0   0   0]\n",
      " [  0   0   0   0   0   0   0 298   0   0   0   0   0   0   0   0   0   0\n",
      "    0   0   0   0   0   4]\n",
      " [  0   0   0   0   0   0   0   0 304   0   0   0   0   0   0   0   0   0\n",
      "    0   0   0   0   0   0]\n",
      " [  0   0   0   0   0   0   0   0   0 283   0   0   0   0   0   0   0   0\n",
      "    0   0   0   0   0   0]\n",
      " [  0   0   0   0   0   0   0   0   0   0 309   0   0   0   0   0   0   0\n",
      "    0   0   0   0   0   0]\n",
      " [  0   0   0   0   0   0   0   0   0   0   0 285   0   0   0   0   0   1\n",
      "    0   0   0   0   0   0]\n",
      " [  0   0   0   0   0   0   0   0   0   0   0   0 279   0   0   0   0   0\n",
      "    0   0   0   0   0   0]\n",
      " [  0   0   0   0   0   0   0   0   0   0   0   0   0 288   0   0   0   0\n",
      "    0   0   0   0   0   0]\n",
      " [  0   0   0   0   0   0   0   0   0   0   0   0   0   0 290   0   0   0\n",
      "    0   0   0   0   0   0]\n",
      " [  0   0   0   0   0   0   0   0   0   0   0   0   0   0   0 314   0   0\n",
      "    0   0   0   0   0   0]\n",
      " [  0   0   0   0   0   0   0   0   0   0   0   0   0   0   0   0 296   1\n",
      "    0   0   0   0   0   0]\n",
      " [  0   0   0   0   0   0   0   0   0   0   0   0   1   0   0   0   0 267\n",
      "    0   0   0   0   0   0]\n",
      " [  0   0   0   0   0   0   0   0   0   0   0   0   0   0   0   0   0   0\n",
      "  303   0   0   0   0   0]\n",
      " [  0   0   0   0   0   0   0   0   0   0   0   0   0   0   0   0   1   0\n",
      "    0 273   0   0   0   0]\n",
      " [  0   0   0   0   0   0   0   0   0   0   0   0   0   0   0   0   0   0\n",
      "    0   0 281   0   0   0]\n",
      " [  0   0   0   0   0   0   0   0   0   0   0   0   0   0   0   0   0   0\n",
      "    0   0   0 279   0   0]\n",
      " [  0   0   0   0   0   0   0   0   0   0   0   0   0   0   0   0   0   0\n",
      "    0   0   0   0 272   0]\n",
      " [  0   0   0   0   0   0   0   0   0   0   0   0   0   0   0   0   0   0\n",
      "    0   0   0   0   0 276]]\n"
     ]
    },
    {
     "name": "stderr",
     "output_type": "stream",
     "text": [
      "/Library/Frameworks/Python.framework/Versions/3.10/lib/python3.10/site-packages/sklearn/metrics/_classification.py:1344: UndefinedMetricWarning: Precision is ill-defined and being set to 0.0 in labels with no predicted samples. Use `zero_division` parameter to control this behavior.\n",
      "  _warn_prf(average, modifier, msg_start, len(result))\n"
     ]
    },
    {
     "data": {
      "image/png": "[encoded data removed]",
      "text/plain": [
       "<Figure size 432x288 with 2 Axes>"
      ]
     },
     "metadata": {
      "needs_background": "light"
     },
     "output_type": "display_data"
    },
    {
     "data": {
      "text/plain": [
       "<Figure size 3600x3600 with 0 Axes>"
      ]
     },
     "metadata": {},
     "output_type": "display_data"
    }
   ],
   "source": [
    "# Convolutional Neural Networks (CNN) model\n",
    "model = Sequential()\n",
    "model.add(Conv2D(32, kernel_size=(3, 3), activation='sigmoid', input_shape=(28, 28, 1)))\n",
    "model.add(MaxPooling2D(pool_size=(2, 2)))\n",
    "model.add(Conv2D(64, kernel_size=(3, 3), activation='sigmoid'))\n",
    "model.add(MaxPooling2D(pool_size=(2, 2)))\n",
    "model.add(Flatten())\n",
    "model.add(Dense(128, activation='sigmoid'))\n",
    "model.add(Dense(num_classes, activation='softmax'))\n",
    "\n",
    "model.compile(loss='categorical_crossentropy', optimizer='adam', metrics=['accuracy'])\n",
    "\n",
    "# Performs forward pass and backward pass.\n",
    "model.fit(np.array(X_train_cnn), np.array(y_train_cat), batch_size=128, epochs=10, validation_split=0.2)\n",
    "\n",
    "cnn_pred = model.predict(X_test_cnn)\n",
    "cnn_pred_classes = np.argmax(cnn_pred, axis=1)\n",
    "cnn_accuracy = accuracy_score(y_test, cnn_pred_classes)\n",
    "cnn_precision = precision_score(y_test, cnn_pred_classes, average='macro')\n",
    "cnn_recall = recall_score(y_test, cnn_pred_classes, average='macro')\n",
    "cnn_cm = confusion_matrix(y_test, cnn_pred_classes)\n",
    "\n",
    "print(\"\\nConvolutional Neural Network (CNN) Results:\")\n",
    "print(\"Accuracy:\", cnn_accuracy)\n",
    "print(\"Precision:\", cnn_precision)\n",
    "print(\"Recall:\", cnn_recall)\n",
    "print(\"Confusion Matrix:\")\n",
    "print(cnn_cm)\n",
    "disp = ConfusionMatrixDisplay(confusion_matrix=cnn_cm)\n",
    "disp.plot()\n",
    "plt.figure(figsize=(50,50))\n",
    "plt.show()"
   ]
  },
  {
   "attachments": {},
   "cell_type": "markdown",
   "metadata": {},
   "source": [
    "### 11. CNN: TANH as Activation Function"
   ]
  },
  {
   "cell_type": "code",
   "execution_count": 15,
   "metadata": {},
   "outputs": [
    {
     "name": "stdout",
     "output_type": "stream",
     "text": [
      "Epoch 1/10\n",
      "174/174 [==============================] - 7s 35ms/step - loss: 0.6694 - accuracy: 0.8343 - val_loss: 0.1103 - val_accuracy: 0.9933\n",
      "Epoch 2/10\n",
      "174/174 [==============================] - 6s 36ms/step - loss: 0.0478 - accuracy: 0.9988 - val_loss: 0.0215 - val_accuracy: 1.0000\n",
      "Epoch 3/10\n",
      "174/174 [==============================] - 6s 36ms/step - loss: 0.0135 - accuracy: 1.0000 - val_loss: 0.0096 - val_accuracy: 1.0000\n",
      "Epoch 4/10\n",
      "174/174 [==============================] - 6s 36ms/step - loss: 0.0068 - accuracy: 1.0000 - val_loss: 0.0055 - val_accuracy: 1.0000\n",
      "Epoch 5/10\n",
      "174/174 [==============================] - 6s 36ms/step - loss: 0.0041 - accuracy: 1.0000 - val_loss: 0.0036 - val_accuracy: 1.0000\n",
      "Epoch 6/10\n",
      "174/174 [==============================] - 6s 36ms/step - loss: 0.0028 - accuracy: 1.0000 - val_loss: 0.0025 - val_accuracy: 1.0000\n",
      "Epoch 7/10\n",
      "174/174 [==============================] - 6s 36ms/step - loss: 0.0020 - accuracy: 1.0000 - val_loss: 0.0019 - val_accuracy: 1.0000\n",
      "Epoch 8/10\n",
      "174/174 [==============================] - 6s 36ms/step - loss: 0.0015 - accuracy: 1.0000 - val_loss: 0.0015 - val_accuracy: 1.0000\n",
      "Epoch 9/10\n",
      "174/174 [==============================] - 6s 35ms/step - loss: 0.0012 - accuracy: 1.0000 - val_loss: 0.0012 - val_accuracy: 1.0000\n",
      "Epoch 10/10\n",
      "174/174 [==============================] - 6s 35ms/step - loss: 9.4163e-04 - accuracy: 1.0000 - val_loss: 9.4129e-04 - val_accuracy: 1.0000\n",
      "217/217 [==============================] - 0s 2ms/step\n",
      "\n",
      "Convolutional Neural Network (CNN) Results:\n",
      "Accuracy: 0.9519203003176436\n",
      "Precision: 0.9355500821018062\n",
      "Recall: 0.9583333333333334\n",
      "Confusion Matrix:\n",
      "[[  0   0   0   0   0   0   0   0   0   0   0   0   0   0   0   0   0   0\n",
      "    0   0   0   0   0 333]\n",
      " [  0 310   0   0   0   0   0   0   0   0   0   0   0   0   0   0   0   0\n",
      "    0   0   0   0   0   0]\n",
      " [  0   0 259   0   0   0   0   0   0   0   0   0   0   0   0   0   0   0\n",
      "    0   0   0   0   0   0]\n",
      " [  0   0   0 310   0   0   0   0   0   0   0   0   0   0   0   0   0   0\n",
      "    0   0   0   0   0   0]\n",
      " [  0   0   0   0 282   0   0   0   0   0   0   0   0   0   0   0   0   0\n",
      "    0   0   0   0   0   0]\n",
      " [  0   0   0   0   0 262   0   0   0   0   0   0   0   0   0   0   0   0\n",
      "    0   0   0   0   0   0]\n",
      " [  0   0   0   0   0   0 265   0   0   0   0   0   0   0   0   0   0   0\n",
      "    0   0   0   0   0   0]\n",
      " [  0   0   0   0   0   0   0 302   0   0   0   0   0   0   0   0   0   0\n",
      "    0   0   0   0   0   0]\n",
      " [  0   0   0   0   0   0   0   0 304   0   0   0   0   0   0   0   0   0\n",
      "    0   0   0   0   0   0]\n",
      " [  0   0   0   0   0   0   0   0   0 283   0   0   0   0   0   0   0   0\n",
      "    0   0   0   0   0   0]\n",
      " [  0   0   0   0   0   0   0   0   0   0 309   0   0   0   0   0   0   0\n",
      "    0   0   0   0   0   0]\n",
      " [  0   0   0   0   0   0   0   0   0   0   0 286   0   0   0   0   0   0\n",
      "    0   0   0   0   0   0]\n",
      " [  0   0   0   0   0   0   0   0   0   0   0   0 279   0   0   0   0   0\n",
      "    0   0   0   0   0   0]\n",
      " [  0   0   0   0   0   0   0   0   0   0   0   0   0 288   0   0   0   0\n",
      "    0   0   0   0   0   0]\n",
      " [  0   0   0   0   0   0   0   0   0   0   0   0   0   0 290   0   0   0\n",
      "    0   0   0   0   0   0]\n",
      " [  0   0   0   0   0   0   0   0   0   0   0   0   0   0   0 314   0   0\n",
      "    0   0   0   0   0   0]\n",
      " [  0   0   0   0   0   0   0   0   0   0   0   0   0   0   0   0 297   0\n",
      "    0   0   0   0   0   0]\n",
      " [  0   0   0   0   0   0   0   0   0   0   0   0   0   0   0   0   0 268\n",
      "    0   0   0   0   0   0]\n",
      " [  0   0   0   0   0   0   0   0   0   0   0   0   0   0   0   0   0   0\n",
      "  303   0   0   0   0   0]\n",
      " [  0   0   0   0   0   0   0   0   0   0   0   0   0   0   0   0   0   0\n",
      "    0 274   0   0   0   0]\n",
      " [  0   0   0   0   0   0   0   0   0   0   0   0   0   0   0   0   0   0\n",
      "    0   0 281   0   0   0]\n",
      " [  0   0   0   0   0   0   0   0   0   0   0   0   0   0   0   0   0   0\n",
      "    0   0   0 279   0   0]\n",
      " [  0   0   0   0   0   0   0   0   0   0   0   0   0   0   0   0   0   0\n",
      "    0   0   0   0 272   0]\n",
      " [  0   0   0   0   0   0   0   0   0   0   0   0   0   0   0   0   0   0\n",
      "    0   0   0   0   0 276]]\n"
     ]
    },
    {
     "name": "stderr",
     "output_type": "stream",
     "text": [
      "/Library/Frameworks/Python.framework/Versions/3.10/lib/python3.10/site-packages/sklearn/metrics/_classification.py:1344: UndefinedMetricWarning: Precision is ill-defined and being set to 0.0 in labels with no predicted samples. Use `zero_division` parameter to control this behavior.\n",
      "  _warn_prf(average, modifier, msg_start, len(result))\n"
     ]
    },
    {
     "data": {
      "image/png": "[encoded data removed]",
      "text/plain": [
       "<Figure size 432x288 with 2 Axes>"
      ]
     },
     "metadata": {
      "needs_background": "light"
     },
     "output_type": "display_data"
    },
    {
     "data": {
      "text/plain": [
       "<Figure size 3600x3600 with 0 Axes>"
      ]
     },
     "metadata": {},
     "output_type": "display_data"
    }
   ],
   "source": [
    "# Convolutional Neural Networks (CNN) model\n",
    "model = Sequential()\n",
    "model.add(Conv2D(32, kernel_size=(3, 3), activation='tanh', input_shape=(28, 28, 1)))\n",
    "model.add(MaxPooling2D(pool_size=(2, 2)))\n",
    "model.add(Conv2D(64, kernel_size=(3, 3), activation='tanh'))\n",
    "model.add(MaxPooling2D(pool_size=(2, 2)))\n",
    "model.add(Flatten())\n",
    "model.add(Dense(128, activation='tanh'))\n",
    "model.add(Dense(num_classes, activation='softmax'))\n",
    "\n",
    "model.compile(loss='categorical_crossentropy', optimizer='adam', metrics=['accuracy'])\n",
    "\n",
    "# Performs forward pass and backward pass.\n",
    "model.fit(np.array(X_train_cnn), np.array(y_train_cat), batch_size=128, epochs=10, validation_split=0.2)\n",
    "\n",
    "cnn_pred = model.predict(X_test_cnn)\n",
    "cnn_pred_classes = np.argmax(cnn_pred, axis=1)\n",
    "cnn_accuracy = accuracy_score(y_test, cnn_pred_classes)\n",
    "cnn_precision = precision_score(y_test, cnn_pred_classes, average='macro')\n",
    "cnn_recall = recall_score(y_test, cnn_pred_classes, average='macro')\n",
    "cnn_cm = confusion_matrix(y_test, cnn_pred_classes)\n",
    "\n",
    "print(\"\\nConvolutional Neural Network (CNN) Results:\")\n",
    "print(\"Accuracy:\", cnn_accuracy)\n",
    "print(\"Precision:\", cnn_precision)\n",
    "print(\"Recall:\", cnn_recall)\n",
    "print(\"Confusion Matrix:\")\n",
    "print(cnn_cm)\n",
    "disp = ConfusionMatrixDisplay(confusion_matrix=cnn_cm)\n",
    "disp.plot()\n",
    "plt.figure(figsize=(50,50))\n",
    "plt.show()"
   ]
  }
 ],
 "metadata": {
  "kernelspec": {
   "display_name": "Python 3",
   "language": "python",
   "name": "python3"
  },
  "language_info": {
   "codemirror_mode": {
    "name": "ipython",
    "version": 3
   },
   "file_extension": ".py",
   "mimetype": "text/x-python",
   "name": "python",
   "nbconvert_exporter": "python",
   "pygments_lexer": "ipython3",
   "version": "3.10.4"
  },
  "orig_nbformat": 4
 },
 "nbformat": 4,
 "nbformat_minor": 2
}
